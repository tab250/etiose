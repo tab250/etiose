{
 "cells": [
  {
   "cell_type": "code",
   "execution_count": 1,
   "id": "2fa62591",
   "metadata": {},
   "outputs": [],
   "source": [
    "import matplotlib.pyplot as plt\n",
    "import numpy as np\n",
    "import pandas as pd\n",
    "import ipywidgets as widgets\n",
    "from sklearn import linear_model\n",
    "from sklearn.metrics import r2_score\n",
    "from datetime import date\n",
    "%matplotlib widget"
   ]
  },
  {
   "cell_type": "markdown",
   "id": "8a93b2c6",
   "metadata": {},
   "source": [
    "# Preventable Diseases Predictor"
   ]
  },
  {
   "cell_type": "code",
   "execution_count": 2,
   "id": "0a507a15",
   "metadata": {
    "scrolled": true
   },
   "outputs": [],
   "source": [
    "# Load in Chronic Disease Indicator Data\n",
    "cdi = pd.read_csv('adjusted_cdi_mortality.csv')\n",
    "cdi.drop(columns=['DataSource'])\n",
    "\n",
    "cdi['YearStart'] = pd.to_datetime(cdi['YearStart'], format='%Y').dt.year"
   ]
  },
  {
   "cell_type": "code",
   "execution_count": 3,
   "id": "a99cd3f4",
   "metadata": {
    "scrolled": true
   },
   "outputs": [],
   "source": [
    "# Get all territories in 'LocationDesc' excluding 'United States'\n",
    "def get_territories():\n",
    "    territories = []\n",
    "\n",
    "    for index, row in cdi.iterrows():\n",
    "        if (row['LocationDesc'] not in territories) & (row['LocationDesc'] != 'United States') :\n",
    "            territories.append(row['LocationDesc'])\n",
    "    \n",
    "    return np.sort(territories)\n",
    "\n",
    "terrs = get_territories()"
   ]
  },
  {
   "cell_type": "markdown",
   "id": "b8cc0931",
   "metadata": {},
   "source": [
    "### Average/Total US Mortalities (2010-2018)"
   ]
  },
  {
   "cell_type": "code",
   "execution_count": 4,
   "id": "09745b7f",
   "metadata": {
    "scrolled": true
   },
   "outputs": [
    {
     "data": {
      "application/vnd.jupyter.widget-view+json": {
       "model_id": "06b22e8808b54752a6339c85c3591693",
       "version_major": 2,
       "version_minor": 0
      },
      "text/plain": [
       "interactive(children=(RadioButtons(description='Calculate:', options=('Average', 'Total'), value='Average'), O…"
      ]
     },
     "metadata": {},
     "output_type": "display_data"
    }
   ],
   "source": [
    "# Define a function to calculate the mean and sum for US mortalities and display them\n",
    "def mean_mortalities(option):\n",
    "    #Get all 'US' specific data\n",
    "    df1 = cdi.loc[(cdi['LocationAbbr'] == 'US')]\n",
    "    #Get df1 topics\n",
    "    topics = np.array(df1['Topic'].unique())\n",
    "    #Declare dictionary to store mean data\n",
    "    data = []\n",
    "    \n",
    "    #Create a plt figure\n",
    "    fig = plt.figure()\n",
    "    fig.tight_layout()\n",
    "    fig.canvas.draw()\n",
    "    fig.canvas.toolbar_visible = False\n",
    "    fig.canvas.resizable = False\n",
    "    \n",
    "    if option == 'Average':\n",
    "        #Get mean data for each topic\n",
    "        for topic in topics:\n",
    "            #Get new df of topic specific data\n",
    "            df2 = cdi.loc[(cdi['Topic'] == topic)]\n",
    "            #Get the mean for the topic\n",
    "            mean = df2.iloc[:, 6].mean(axis=0)\n",
    "            #Add the mean to the array means\n",
    "            data.append(mean)\n",
    "\n",
    "        #Plot data\n",
    "        plt.barh(topics, data)\n",
    "\n",
    "        #Add plot aesthetic\n",
    "        plt.xlabel('Mortalities')\n",
    "        plt.title('Average Mortalities in the US (2010 - 2018)')\n",
    "        fig.tight_layout()\n",
    "    else:\n",
    "        #Get sum data for each topic\n",
    "        for topic in topics:\n",
    "            #Get new df of topic specific data\n",
    "            df2 = cdi.loc[(cdi['Topic'] == topic)]\n",
    "            #Get the mean for the topic\n",
    "            total = df2.iloc[:, 6].sum(axis=0)\n",
    "            #Add the mean to the array means\n",
    "            data.append(total)\n",
    "\n",
    "        #Plot data\n",
    "        plt.barh(topics, data)\n",
    "\n",
    "        #Add plot aesthetic\n",
    "        plt.xlabel('Mortalities')\n",
    "        plt.title('Total Mortalities in the US (2010 - 2018)')\n",
    "        fig.tight_layout()\n",
    "\n",
    "#Create a radio button for Average and Total options\n",
    "radio_btn = widgets.RadioButtons(options=['Average', 'Total'], description= 'Calculate:', continuous_update=True)\n",
    "\n",
    "#Create display with radio buttons\n",
    "widgets.interact(mean_mortalities, option=radio_btn)\n",
    "plt.show()"
   ]
  },
  {
   "cell_type": "markdown",
   "id": "2ec3de7d",
   "metadata": {},
   "source": [
    "### State Mortality Trends (2010-2018)"
   ]
  },
  {
   "cell_type": "code",
   "execution_count": 5,
   "id": "f5c69684",
   "metadata": {},
   "outputs": [
    {
     "name": "stderr",
     "output_type": "stream",
     "text": [
      "/Users/tylerbrown/opt/anaconda3/lib/python3.8/site-packages/traitlets/traitlets.py:586: FutureWarning: elementwise comparison failed; returning scalar instead, but in the future will perform elementwise comparison\n",
      "  silent = bool(old_value == new_value)\n"
     ]
    },
    {
     "data": {
      "application/vnd.jupyter.widget-view+json": {
       "model_id": "20bfe0d534f04c269ddd611c54ea3b38",
       "version_major": 2,
       "version_minor": 0
      },
      "text/plain": [
       "interactive(children=(Dropdown(description='State', options=('Alabama', 'Alaska', 'Arizona', 'Arkansas', 'Cali…"
      ]
     },
     "metadata": {},
     "output_type": "display_data"
    }
   ],
   "source": [
    "def get_state_data(state):\n",
    "    #Get State Data\n",
    "    df1 = cdi.loc[(cdi['LocationDesc'] == state)]\n",
    "    \n",
    "    # Get Range of Years and Topics\n",
    "    years = np.sort(np.array(df1['YearStart'].unique()))\n",
    "    topics = np.array(df1['Topic'].unique())\n",
    "    \n",
    "    # Create dictionary to store sum data\n",
    "    new_data = {}\n",
    "    \n",
    "    #Create a plt figure\n",
    "    fig = plt.figure()\n",
    "    fig.canvas.draw()\n",
    "    fig.canvas.toolbar_visible = False\n",
    "    fig.canvas.resizable = False\n",
    "    \n",
    "    #Sort through df1 by topic\n",
    "    for topic in topics:\n",
    "        new_data[topic] = [[],[]]\n",
    "        #Sort through df1 topic by year\n",
    "        for year in years:\n",
    "            #Create a new df containing specific topic and year data\n",
    "            df2 = df1.loc[(df1['Topic'] == topic) & (df1['YearStart'] == year)]\n",
    "            #Get the sum of all DataValues in df2\n",
    "            sum = df2.iloc[:, 6].sum(axis=0)\n",
    "            \n",
    "            #Append data to new_data dictionary\n",
    "            new_data[topic][0].append(year)\n",
    "            new_data[topic][1].append(sum)    \n",
    "    \n",
    "    #Plot Data\n",
    "    plt.plot(new_data['Cardiovascular Disease'][0], new_data['Cardiovascular Disease'][1], 'r.-', label='Cardiovascular Disease')\n",
    "    plt.plot(new_data['Chronic Kidney Disease'][0], new_data['Chronic Kidney Disease'][1], 'y.-', label='Chronic Kidney Disease')\n",
    "    plt.plot(new_data['Chronic Obstructive Pulmonary Disease'][0], new_data['Chronic Obstructive Pulmonary Disease'][1], 'g.-', label='Chronic Obstructive Pulmonary Disease')\n",
    "    plt.plot(new_data['Diabetes'][0], new_data['Diabetes'][1], 'b.-', label='Diabetes')\n",
    "    \n",
    "    #Add plot aesthetic\n",
    "    plt.xlabel('Year')\n",
    "    plt.ylabel('Mortalities')\n",
    "    plt.title('Mortality Trends by State')\n",
    "    plt.legend()\n",
    "\n",
    "#Create a downdown widget for state options\n",
    "dropdwn = widgets.Dropdown(options = terrs, description = 'State', continuous_update=True)\n",
    "#Create visuals\n",
    "widgets.interact(get_state_data, state=dropdwn)\n",
    "plt.show()"
   ]
  },
  {
   "cell_type": "markdown",
   "id": "c18a3541",
   "metadata": {},
   "source": [
    "### Two State Total Mortalities Comparison (2010-2018)"
   ]
  },
  {
   "cell_type": "code",
   "execution_count": 6,
   "id": "2c23b182",
   "metadata": {
    "scrolled": true
   },
   "outputs": [
    {
     "name": "stderr",
     "output_type": "stream",
     "text": [
      "/Users/tylerbrown/opt/anaconda3/lib/python3.8/site-packages/traitlets/traitlets.py:586: FutureWarning: elementwise comparison failed; returning scalar instead, but in the future will perform elementwise comparison\n",
      "  silent = bool(old_value == new_value)\n"
     ]
    },
    {
     "data": {
      "application/vnd.jupyter.widget-view+json": {
       "model_id": "4f6093cc8743448abd00deb37f38b963",
       "version_major": 2,
       "version_minor": 0
      },
      "text/plain": [
       "interactive(children=(Dropdown(description='First State', options=('Alabama', 'Alaska', 'Arizona', 'Arkansas',…"
      ]
     },
     "metadata": {},
     "output_type": "display_data"
    }
   ],
   "source": [
    "def state_comp_totals(state1='Alabama', state2='Alabama'):\n",
    "    #Get State Data\n",
    "    df_state1 = cdi.loc[(cdi['LocationDesc'] == state1)]\n",
    "    df_state2 = cdi.loc[(cdi['LocationDesc'] == state2)]\n",
    "    \n",
    "    # Get Range of Years and Topics\n",
    "    years = np.sort(np.array(df_state1['YearStart'].unique()))\n",
    "    topics = np.array(df_state1['Topic'].unique())\n",
    "    \n",
    "    # Create arrays to store sum data for state and us\n",
    "    state1_sums = []\n",
    "    state2_sums = []\n",
    "    \n",
    "    #Sort through df1 by topic\n",
    "    for topic in topics:\n",
    "        #Get new df, for state1 and state2, of topic specific data\n",
    "        df2_state1 = df_state1.loc[(df_state1['Topic'] == topic)]\n",
    "        df2_state2 = df_state2.loc[(df_state2['Topic'] == topic)]\n",
    "        \n",
    "        #Get the sums for the topic\n",
    "        sum_for_state1 = df2_state1.iloc[:, 6].sum(axis=0).astype('int64')\n",
    "        sum_for_state2 = df2_state2.iloc[:, 6].sum(axis=0).astype('int64')\n",
    "        \n",
    "        #Add the sum to the porper array means\n",
    "        state1_sums.append(sum_for_state1)\n",
    "        state2_sums.append(sum_for_state2)\n",
    "        \n",
    "    x_axis = np.arange(len(topics))\n",
    "    width = 0.4\n",
    "    \n",
    "    #Create a plt figure\n",
    "    #out = widgets.Output()\n",
    "    #with out:\n",
    "        #fig = plt.figure()\n",
    "    fig, ax = plt.subplots()\n",
    "    fig.canvas.draw()\n",
    "    fig.canvas.toolbar_visible = False\n",
    "    fig.canvas.resizable = False\n",
    "    state = ax.bar(x_axis - width/2, state1_sums, width, label=state1)\n",
    "    us =  ax.bar(x_axis + width/2, state2_sums, width, label=state2)\n",
    "    \n",
    "    ax.set_title('Total Mortality Comparison of Two States (2010 - 2018)')\n",
    "    ax.set_ylabel('Mortalities')\n",
    "    ax.set_xticks(x_axis)\n",
    "    ax.set_xticklabels(topics, rotation=45, ha='right')\n",
    "    ax.legend()\n",
    "    fig.tight_layout()\n",
    "\n",
    "\n",
    "#Create two dropdown widgets for state selections\n",
    "dropdwn1, dropdwn2 = widgets.Dropdown(options = terrs, description = 'First State', continuous_update=True), \\\n",
    "                     widgets.Dropdown(options = terrs, description = 'Second State', continuous_update=True)\n",
    "\n",
    "\n",
    "widgets.interact(state_comp_totals, state1=dropdwn1, state2=dropdwn2)\n",
    "plt.show()"
   ]
  },
  {
   "cell_type": "markdown",
   "id": "34f62f52",
   "metadata": {},
   "source": [
    "## Predictor"
   ]
  },
  {
   "cell_type": "code",
   "execution_count": 7,
   "id": "bdbac408",
   "metadata": {
    "scrolled": true
   },
   "outputs": [
    {
     "data": {
      "application/vnd.jupyter.widget-view+json": {
       "model_id": "2630e8663d05438e939e05151b6537ab",
       "version_major": 2,
       "version_minor": 0
      },
      "text/plain": [
       "interactive(children=(Text(value='', description='year'), IntSlider(value=8, description='reduced_by', max=15,…"
      ]
     },
     "metadata": {},
     "output_type": "display_data"
    },
    {
     "name": "stdout",
     "output_type": "stream",
     "text": [
      "\n",
      "* Note: these values represent the average across the 50 states and the District of Columbia\n"
     ]
    }
   ],
   "source": [
    "#Build a model for each topic that can determine the number of deaths \n",
    "#in any year, up to a certain point, and allow the user to enter a year\n",
    "#and see the deaths per topic and the trends. Display the trained datasets \n",
    "#and provide the value for the specified year. Only need the x to contain\n",
    "#the topic's DataValue. The y will contain all information. Then the 'US'\n",
    "#data can be used to compare the accuracy. This model will be used by the \n",
    "#department of HHS to better help predict the rates of deaths in this country\n",
    "#by preventable diseases and allow them to better allocate funds for \n",
    "#outreach and care.\n",
    "\n",
    "#Get US data\n",
    "df_us = cdi.loc[cdi['LocationAbbr'] == 'US']\n",
    "#Get territories data (without 'US')\n",
    "df_terrs = cdi.loc[cdi['LocationAbbr'] != 'US']\n",
    "#Get all data 'Topics'\n",
    "topics = np.array(df_terrs['Topic'].unique())\n",
    "#Get all data 'Questions'\n",
    "questions = {}\n",
    "for topic in topics:\n",
    "    df2 = cdi.loc[cdi['Topic'] == topic]\n",
    "    questions[topic] = np.array(df2['Question'].unique())\n",
    "\n",
    "#List of coefficients for every linear regression model\n",
    "coefficients = []\n",
    "\n",
    "#Generate a linear model for each topic and question\n",
    "def gen_model(year, reduced_by):\n",
    "    try:\n",
    "        year = int(year)\n",
    "        for topic in topics:\n",
    "            for question in questions[topic]:\n",
    "                #Get data with 'Topic' equal\n",
    "                df_tq = df_terrs.loc[(df_terrs['Topic'] == topic) & (df_terrs['Question'] == question)]\n",
    "                #Get x and y for linear model\n",
    "                df_x = df_tq.drop(columns=['DataValue'])\n",
    "                df_y = df_tq['DataValue']\n",
    "\n",
    "                #plt.scatter(df_x[['YearStart']], df_y)\n",
    "                lin_model = linear_model.LinearRegression()\n",
    "                lin_model.fit(df_x[['YearStart']], df_y)\n",
    "    \n",
    "                #Calculate prediction values\n",
    "                prediction = int(lin_model.predict(np.reshape(year, (-1, 1))))\n",
    "                reduction_percent = reduced_by / 100\n",
    "                prediction_reduction = int(prediction - (prediction * reduction_percent))\n",
    "                                \n",
    "                #Print prediction values\n",
    "                print('Average ' + question + ': ' + str(prediction))\n",
    "                print('Average if ' + str(reduced_by) + '% of the possible population avoids/prolongs disease: ' + str(prediction_reduction))\n",
    "                print()\n",
    "    except ValueError:\n",
    "        print('Please enter a year after 2018')\n",
    "widgets.interact(gen_model, year='', reduced_by=(1,15))\n",
    "print()\n",
    "print('* Note: these values represent the average across the 50 states and the District of Columbia')\n",
    "plt.show()"
   ]
  },
  {
   "cell_type": "code",
   "execution_count": 10,
   "id": "c2b43d12",
   "metadata": {},
   "outputs": [
    {
     "name": "stdout",
     "output_type": "stream",
     "text": [
      "0.0012485368972926514\n",
      "0.0009986180087266927\n",
      "0.006619689014568997\n",
      "0.00011339189509695924\n",
      "0.0023702536518674933\n",
      "0.002179636847547628\n",
      "0.0026209932793876956\n",
      "0.0030513059706238632\n",
      "0.007717339576744475\n",
      "0.017213170072046036\n"
     ]
    }
   ],
   "source": [
    "#Get US data\n",
    "df_us = cdi.loc[cdi['LocationAbbr'] == 'US']\n",
    "#Get territories data (without 'US')\n",
    "df_terrs = cdi.loc[cdi['LocationAbbr'] != 'US']\n",
    "#Get all data 'Topics'\n",
    "topics = np.array(df_terrs['Topic'].unique())\n",
    "#Get all data 'Questions'\n",
    "questions = {}\n",
    "for topic in topics:\n",
    "    df2 = cdi.loc[cdi['Topic'] == topic]\n",
    "    questions[topic] = np.array(df2['Question'].unique())\n",
    "\n",
    "for topic in topics:\n",
    "    for question in questions[topic]:\n",
    "        #Get data with 'Topic' equal\n",
    "        df_tq = df_terrs.loc[(df_terrs['Topic'] == topic) & (df_terrs['Question'] == question)]\n",
    "        #Get x and y for linear model\n",
    "        df_x = df_tq.drop(columns=['DataValue'])\n",
    "        df_y = df_tq['DataValue']\n",
    "\n",
    "        #plt.scatter(df_x[['YearStart']], df_y)\n",
    "        lin_model = linear_model.LinearRegression()\n",
    "        lin_model.fit(df_x[['YearStart']], df_y)\n",
    "        print(lin_model.score(df_x[['YearStart']], df_y))\n",
    "        #print(lin_model.score([[2020]], df_y))\n",
    "#         #Calculate prediction values\n",
    "#         prediction = int(lin_model.predict(np.reshape(year, (-1, 1))))\n",
    "#         reduction_percent = reduced_by / 100"
   ]
  },
  {
   "cell_type": "code",
   "execution_count": null,
   "id": "3adf30bd",
   "metadata": {},
   "outputs": [],
   "source": []
  }
 ],
 "metadata": {
  "kernelspec": {
   "display_name": "Python 3",
   "language": "python",
   "name": "python3"
  },
  "language_info": {
   "codemirror_mode": {
    "name": "ipython",
    "version": 3
   },
   "file_extension": ".py",
   "mimetype": "text/x-python",
   "name": "python",
   "nbconvert_exporter": "python",
   "pygments_lexer": "ipython3",
   "version": "3.8.8"
  }
 },
 "nbformat": 4,
 "nbformat_minor": 5
}
